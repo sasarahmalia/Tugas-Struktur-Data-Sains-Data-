{
  "nbformat": 4,
  "nbformat_minor": 0,
  "metadata": {
    "colab": {
      "provenance": []
    },
    "kernelspec": {
      "name": "python3",
      "display_name": "Python 3"
    },
    "language_info": {
      "name": "python"
    }
  },
  "cells": [
    {
      "cell_type": "markdown",
      "source": [
        "**TUGAS STRUKTUR DATA PERTEMUAN 10**\n",
        "\n",
        "**EXERCISES 9 STRUKTUR DATA**\n",
        "\n",
        "NAMA : SASA RAHMA LIA\\\n",
        "NIM : 121450119\\\n",
        "KELAS : RC"
      ],
      "metadata": {
        "id": "0fRXUXQz59bM"
      }
    },
    {
      "cell_type": "markdown",
      "source": [
        "## __Introduction Section__\n",
        "---\n",
        "1. Jelaskan definisi object dalam Paradigma Object-Oriented!\n",
        "2. Jelaskan tiga tujuan dalam Paradigma Object-Oriented!\n",
        "3. Jelaskan tiga prinsip dalam Paradigma Object-Oriented!\n",
        "4. Sebutkan contoh design pattern dalam Paradigma Object-Oriented!"
      ],
      "metadata": {
        "id": "_3sXf8nf7Gl7"
      }
    },
    {
      "cell_type": "markdown",
      "source": [
        "**JAWABAN :**\n",
        "\n",
        "1. Object adalah suatu\n",
        "komponen yang mempunyai bentuk\n",
        "fisik dan biasanya dapat dilihat. Object\n",
        "biasanya dipakai untuk melakukan\n",
        "tugas tertentu dan mempunyai batasan-batasan tertentu.Objek juga membungkus data dan fungsi bersama dijadikan suatu unit dalam sebuah program komputer objek merupakan dasar dari modularitas dan struktur dalam sebuah program komputer berarah objek. object dapat menerima pesan,\n",
        "memproses data, mengirim,\n",
        "menyimpan dan memanipulasi data. \n",
        "\n",
        "2.  untuk mengatasi kelemahan pendekatan pemrograman konvensional,fleksibelitas melalui polimorfisme,dapat memecahkan masalah dengan efektif\n",
        "\n",
        "3. * Encapsulation : sebuah konsep tentang pengikatan data atau metode berbeda yang disatukan menjadi satu unit\n",
        "   *Inheritance : dapat membentuk class baru yang mewarisi bagian dari class yang sudah ada sebelumnya\n",
        "   *Abstract class : class-class yang memiliki informasi abstrak dan metode dari sekumpulan data\n",
        "   *Polymorphism : sebuah objek yang berbeda - beda dapat diakses melalui satu interface\n",
        "\n",
        "4. Creational Patterns, Structural Patterns, Behavioral Patterns, J2EE Patterns\n",
        "\n",
        "\n",
        "\n",
        "\n",
        "\n"
      ],
      "metadata": {
        "id": "d89Eoj0V7OSe"
      }
    },
    {
      "cell_type": "markdown",
      "source": [
        "## __Class and Object__\n",
        "1. Jelaskan definisi Class!\n",
        "2. Jelaskan perbedaan Attribute dengan Method!\n",
        "3. Jelaskan apa itu instansiasi Object!\n",
        "4. Jelaskan apa itu identifier!"
      ],
      "metadata": {
        "id": "6Eo5Q3aW8Grz"
      }
    },
    {
      "cell_type": "markdown",
      "source": [
        "**JAWABAN :**\n",
        "\n",
        "1. **Class**digunakan hanya untuk membuat kerangka dasar. Yang akan kita pakai nanti adalah hasil cetakan dari class, yakni object.\n",
        "\n",
        "2. **Attribute** merupakan karakteristik dari suatu class, Attribut ini berupa suatu variable yang terletak tepat di dalam class dan **method** merupakan sebutan untuk suatu function pada java\n",
        "\n",
        "3. **Instance objek** adalah kejadian atau fungsi spesifik dari suatu objek.\n",
        "\n",
        "4. Identifier adalah sebuah pengenal atau pengidentifikasi yang kita deklarasikan agar kompiler dapat mengenalinya"
      ],
      "metadata": {
        "id": "JhTIMd2W8KaY"
      }
    },
    {
      "cell_type": "markdown",
      "source": [
        "## __Implementing Class__\n",
        "Implementasikan kelas diagram \"Kendaraan\" berikut ke dalam Python!\n",
        "\n",
        "   Class Kendaraan :\n",
        "   \n",
        "    - string nomorPlat\n",
        "    - string merk\n",
        "    - string jenis\n",
        "    - string warna\n",
        "    - int tanggalBeli\n",
        "    - int bulanBeli\n",
        "    - int tahunBeli\n",
        "    - double berat\n",
        "    - double harga\n",
        "    - showTanggalPembelian()"
      ],
      "metadata": {
        "id": "hfwnBok28SIl"
      }
    },
    {
      "cell_type": "markdown",
      "source": [
        "**JAWABAN :**"
      ],
      "metadata": {
        "id": "11z4eMGR8Y-n"
      }
    },
    {
      "cell_type": "code",
      "source": [
        "class Kendaraan :\n",
        "  def __init__(self, nomorPlat, merk, jenis, warna, tanggalbeli, bulanbeli, tahunbeli, berat, harga):\n",
        "    self.nomorPlat = nomorPlat\n",
        "    self.merk = merk\n",
        "    self.jenis = jenis\n",
        "    self.warna = warna\n",
        "    self.tanggalbeli = tanggalbeli\n",
        "    self.bulanbeli = bulanbeli\n",
        "    self.tahunbeli = tahunbeli\n",
        "    self.berat = berat\n",
        "    self.harga = harga\n",
        "\n",
        "  def showTanggalPembelian(self):\n",
        "    print(f\"{self.nomorPlat}, {self.warna}, {self.merk}, {self.tanggalbeli}/{self.bulanbeli}/{self.tahunbeli}, 'harga : {self.harga}'\")\n",
        "\n",
        "Beli = Kendaraan(\"BE 153 AE\", \"Yamaha\", \"Matic\", \"Biru\", 11, 11, 2022, 11.30, 20999999.99)\n",
        "Beli.showTanggalPembelian()"
      ],
      "metadata": {
        "colab": {
          "base_uri": "https://localhost:8080/"
        },
        "id": "040Mnt1UPJOD",
        "outputId": "bae3b50c-eeaf-444d-c5b0-5779d0dbb9c4"
      },
      "execution_count": null,
      "outputs": [
        {
          "output_type": "stream",
          "name": "stdout",
          "text": [
            "BE 153 AE, Biru, Yamaha, 11/11/2022, 'harga : 20999999.99'\n"
          ]
        }
      ]
    },
    {
      "cell_type": "markdown",
      "source": [
        "## __Main OOP Concept__\n",
        "1. Jelaskan konsep encapsulation dalam Paradigma Object-Oriented!\n",
        "2. Jelaskan konsep inheritance dalam Paradigma Object-Oriented!\n",
        "3. Jelaskan perbedaan public method dan private method dalam encapsulation!\n",
        "4. Jelaskan perbedaan superclass dan subclass dalam inheritance!"
      ],
      "metadata": {
        "id": "sgR0XppI8m36"
      }
    },
    {
      "cell_type": "markdown",
      "source": [
        "**JAWABAN :**\n",
        "\n",
        "1. Encapsulation pada OOP adalah konsep tentang pengikatan data atau metode berbeda yang disatukan atau “dikapsulkan” menjadi satu unit data.\n",
        "\n",
        "2. Inheritance dalam konsep OOP adalah kemampuan untuk membentuk class baru yang memiliki fungsi turunan atau mirip dengan fungsi yang ada sebelumnya\n",
        "\n",
        "3. Public = dapat diakses dari mana saja.\\\n",
        "   Private = hanya bisa diakses dari objek itu sendiri\n",
        "\n",
        "4. Superclass adalah kelas yang ada dari mana kelas baru diturunkan.\\\n",
        "   Subclass adalah kelas baru yang mewarisi properti dan metode Superclass."
      ],
      "metadata": {
        "id": "snb6B1qW8xC-"
      }
    },
    {
      "cell_type": "markdown",
      "source": [
        "\n",
        "## __Programming Exercise__\n",
        "- Buatlah class diagram dari code python berikut ini:\n",
        "\n",
        "```python\n",
        "class Koordinat:\n",
        "\tdef __init__(self,x,y):\n",
        "\t\tself.z = 0\n",
        "\t\tself.x = x\n",
        "\t\tself.y = y\n",
        "\tdef set_x(self,x):\n",
        "\t\tself.x = x\n",
        "\tdef increment_x(self):\n",
        "\t\tself.x+=1\n",
        "\tdef __str__(self):\n",
        "\t\treturn f\"x : {self.x} , y:{self.y} , z:{self.z}\"\n",
        "```\n",
        "\n",
        "- Implementasikan class diagram berikut menjadi program python!\n",
        "\n",
        "```mermaid\n",
        "classDiagram\n",
        "class Koordinat{\n",
        "\tint x\n",
        "\tint y\n",
        "\tint z\n",
        "\tsetx()\n",
        "\tsety()\n",
        "\tsetz()\n",
        "}\n",
        "class Vector{\n",
        "\tKoordinat koordinat\n",
        "\tsetKoordinat()\n",
        "\tgetKoordinat()\n",
        "\tnorm()\n",
        "}\n",
        "```\n",
        "\n",
        "- fungsi norm() adalah fungsi untuk menghitung norm dari sebuah vector yaitu\n",
        "norm = $\\sqrt{x^2 + y^2 + z^2}$ . Buatlah fungsi untuk menghitung norm dari vector berdasarkan class yang telah anda buat! \n",
        "\n",
        "- Euclidian Distance adalah jarak antara 2 vector dan didefinisikan sebagai \n",
        "$$d = \\sqrt{ (x_1 - x_2)^2 + (y_1 - y_2)^2 + (z_1 - z_2)^2 } $$\n",
        "buatlah program untuk menghitung euclidian distance antara 2 vector berdasarkan class yang telah anda buat!\n",
        "\n",
        "- Perhatikan tabel berikut\n",
        "\n",
        "| Vector | x   | y   | z   | kelas |\n",
        "| ------ | --- | --- | --- | ----- |\n",
        "| A      | 0   | 1   | 1   | 0     |\n",
        "| B      | 2   | 2   | 2   | 1     |\n",
        "| C      | 1.5 | 1.2 | 1.5 | 1     |\n",
        "| D      | 10  | 9   | 8   | 0     |\n",
        "| E      | 5   | 5   | 5   | 0     |\n",
        "| F      | 8   | 8   | 8   | 0     |\n",
        "| G      | 6   | 6   | 1   | 0     |\n",
        "| H      | 3   | 3   | 3   | ?     |\n",
        "\n",
        "Salah satu metode dalam data science untuk melakukan klasifikasi adalah dengan menggunakan k-nearest neighbor, dimana cara menentukan label kelas adalah dengan cara melihat tetangga dengan euclidian distance terdekat. Tentukan kelas dari vector H dengan cara:\n",
        "- Tentukan 3 tetangga paling dekat dari H \n",
        "- dari 3 tetangga tersebut, pilih kelas yang paling banyak muncul\n",
        "- Jadikan kelas yang paling banyak muncul tersebut sebagai kelas dari vector H\n",
        "\n",
        "Implementasikan algoritma tersebut menggunakan program python dengan paradigma object-oriented programming yang telah anda pelajari!"
      ],
      "metadata": {
        "id": "OiDGJWpd9E8r"
      }
    },
    {
      "cell_type": "markdown",
      "source": [
        "**JAWABAN :**"
      ],
      "metadata": {
        "id": "GVqFwKF59Rzw"
      }
    },
    {
      "cell_type": "code",
      "source": [
        "from math import sqrt\n",
        "import statistics\n",
        "class Vektor:\n",
        "  def __init__(self, vektor, x, y, z, nama_vektor):\n",
        "    self.vektor = vektor\n",
        "    self.x = x\n",
        "    self.y = y\n",
        "    self.z = z\n",
        "    self.nama_vektor = nama_vektor\n",
        "    self.kls_h = 0\n",
        "  def jarak(self):\n",
        "    vkt = []\n",
        "    jarak = []\n",
        "    # Jarak tetangga\n",
        "    for i in self.vektor:\n",
        "        komponen_vektor = list(self.vektor[i].values())\n",
        "        def dekat(komponen_vektor):\n",
        "            distance = 0\n",
        "            for i in komponen_vektor:\n",
        "                distance = sqrt((self.x-komponen_vektor[1])**2 + (self.y-komponen_vektor[2])**2 + (self.z-komponen_vektor[3])**2)\n",
        "            return distance\n",
        "        vkt = vkt + [self.vektor[i]]\n",
        "        jarak = jarak + [round(dekat(komponen_vektor), 2)]\n",
        "        print(f\"Jarak vektor {self.vektor[i]['vektor']} dengan vektor H adalah sebesar {round(dekat(komponen_vektor), 2)}\")\n",
        "    val_sorted = sorted(jarak)\n",
        "    tetangga = {}\n",
        "    for i in range(len(jarak)):\n",
        "        tetangga[jarak[i]] = vkt[i]    \n",
        "    print(\"Urutannya adalah:\")\n",
        "    for j in range(len(val_sorted)): \n",
        "        print(f\"Jarak vektor {tetangga[val_sorted[j]]['vektor']} dengan vektor H adalah sebesar {val_sorted[j]}\")\n",
        "    print(\"3 Tetangga terdekat:\")\n",
        "    kls = []\n",
        "    for k in range(3):\n",
        "        print(f\"Vektor {tetangga[val_sorted[k]]['vektor']} dengan kelas {tetangga[val_sorted[k]]['kelas']} pada jarak {val_sorted[k]} dengan vektor H\")\n",
        "        kls = kls + [tetangga[val_sorted[k]]['kelas']]\n",
        "    self.kls_h = statistics.mode(kls)\n",
        "    print(\"Kelas yang paling banyak muncul adalah = \", self.kls_h)\n",
        "    print(\"Kelas dari vektor H = \", self.kls_h)\n",
        "  def hasil(self):\n",
        "    return {'vektor': self.nama_vektor, 'x' : self.x, 'y' : self.y, 'z': self.z, 'kelas': self.kls_h}\n",
        "\n"
      ],
      "metadata": {
        "id": "tgZDgNQovver"
      },
      "execution_count": null,
      "outputs": []
    },
    {
      "cell_type": "code",
      "source": [
        "tabel = {\n",
        "    \"vektor1\" : {'vektor': 'A', 'x' : 0, 'y' : 1, 'z': 1, 'kelas': 0 },\n",
        "    \"vektor2\" : {'vektor': 'B', 'x' : 2, 'y' : 2, 'z': 2, 'kelas': 1},\n",
        "    \"vektor3\" : {'vektor': 'C', 'x' : 1.5, 'y' : 1.2, 'z': 1, 'kelas': 1},\n",
        "    \"vektor4\" : {'vektor': 'D', 'x' : 10, 'y' : 9, 'z': 0, 'kelas': 0},\n",
        "    \"vektor5\" : {'vektor': 'E', 'x' : 5, 'y' : 5, 'z': 5, 'kelas': 0},\n",
        "    \"vektor6\" : {'vektor': 'F', 'x' : 8, 'y' : 8, 'z': 0, 'kelas': 0},\n",
        "    \"vektor7\" : {'vektor': 'G', 'x' : 6, 'y' : 6, 'z': 0, 'kelas': 0},\n",
        "}\n",
        "for key in tabel:\n",
        "    print(tabel[key])\n",
        "print(\"\\n\")\n",
        "data = Vektor(tabel, 3, 3, 3, \"H\")\n",
        "data.jarak()\n",
        "print(data.hasil())\n",
        "tabel[\"vektor8\"] = data.hasil()\n",
        "print(\"\\n\")\n",
        "for key in tabel:\n",
        "    print(tabel[key])\n"
      ],
      "metadata": {
        "colab": {
          "base_uri": "https://localhost:8080/"
        },
        "id": "7sifNw-jv0rI",
        "outputId": "959bfc69-cb33-48b8-f4ab-c9e5dc4dff9a"
      },
      "execution_count": null,
      "outputs": [
        {
          "output_type": "stream",
          "name": "stdout",
          "text": [
            "{'vektor': 'A', 'x': 0, 'y': 1, 'z': 1, 'kelas': 0}\n",
            "{'vektor': 'B', 'x': 2, 'y': 2, 'z': 2, 'kelas': 1}\n",
            "{'vektor': 'C', 'x': 1.5, 'y': 1.2, 'z': 1, 'kelas': 1}\n",
            "{'vektor': 'D', 'x': 10, 'y': 9, 'z': 0, 'kelas': 0}\n",
            "{'vektor': 'E', 'x': 5, 'y': 5, 'z': 5, 'kelas': 0}\n",
            "{'vektor': 'F', 'x': 8, 'y': 8, 'z': 0, 'kelas': 0}\n",
            "{'vektor': 'G', 'x': 6, 'y': 6, 'z': 0, 'kelas': 0}\n",
            "\n",
            "\n",
            "Jarak vektor A dengan vektor H adalah sebesar 4.12\n",
            "Jarak vektor B dengan vektor H adalah sebesar 1.73\n",
            "Jarak vektor C dengan vektor H adalah sebesar 3.08\n",
            "Jarak vektor D dengan vektor H adalah sebesar 9.7\n",
            "Jarak vektor E dengan vektor H adalah sebesar 3.46\n",
            "Jarak vektor F dengan vektor H adalah sebesar 7.68\n",
            "Jarak vektor G dengan vektor H adalah sebesar 5.2\n",
            "Urutannya adalah:\n",
            "Jarak vektor B dengan vektor H adalah sebesar 1.73\n",
            "Jarak vektor C dengan vektor H adalah sebesar 3.08\n",
            "Jarak vektor E dengan vektor H adalah sebesar 3.46\n",
            "Jarak vektor A dengan vektor H adalah sebesar 4.12\n",
            "Jarak vektor G dengan vektor H adalah sebesar 5.2\n",
            "Jarak vektor F dengan vektor H adalah sebesar 7.68\n",
            "Jarak vektor D dengan vektor H adalah sebesar 9.7\n",
            "3 Tetangga terdekat:\n",
            "Vektor B dengan kelas 1 pada jarak 1.73 dengan vektor H\n",
            "Vektor C dengan kelas 1 pada jarak 3.08 dengan vektor H\n",
            "Vektor E dengan kelas 0 pada jarak 3.46 dengan vektor H\n",
            "Kelas yang paling banyak muncul adalah =  1\n",
            "Kelas dari vektor H =  1\n",
            "{'vektor': 'H', 'x': 3, 'y': 3, 'z': 3, 'kelas': 1}\n",
            "\n",
            "\n",
            "{'vektor': 'A', 'x': 0, 'y': 1, 'z': 1, 'kelas': 0}\n",
            "{'vektor': 'B', 'x': 2, 'y': 2, 'z': 2, 'kelas': 1}\n",
            "{'vektor': 'C', 'x': 1.5, 'y': 1.2, 'z': 1, 'kelas': 1}\n",
            "{'vektor': 'D', 'x': 10, 'y': 9, 'z': 0, 'kelas': 0}\n",
            "{'vektor': 'E', 'x': 5, 'y': 5, 'z': 5, 'kelas': 0}\n",
            "{'vektor': 'F', 'x': 8, 'y': 8, 'z': 0, 'kelas': 0}\n",
            "{'vektor': 'G', 'x': 6, 'y': 6, 'z': 0, 'kelas': 0}\n",
            "{'vektor': 'H', 'x': 3, 'y': 3, 'z': 3, 'kelas': 1}\n"
          ]
        }
      ]
    },
    {
      "cell_type": "code",
      "source": [],
      "metadata": {
        "id": "xN60XgRWwWF4"
      },
      "execution_count": null,
      "outputs": []
    }
  ]
}